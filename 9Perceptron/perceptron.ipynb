{
 "cells": [
  {
   "cell_type": "markdown",
   "id": "78c4d78b",
   "metadata": {},
   "source": [
    "Perceptron que aprende la funcion AND"
   ]
  },
  {
   "cell_type": "markdown",
   "id": "fe5b93f9",
   "metadata": {},
   "source": [
    "Importamos librerias"
   ]
  },
  {
   "cell_type": "code",
   "execution_count": 1,
   "id": "8a777cc8",
   "metadata": {},
   "outputs": [],
   "source": [
    "import numpy as np"
   ]
  },
  {
   "cell_type": "markdown",
   "id": "c77ad507",
   "metadata": {},
   "source": [
    "Datos de entradas X y datos de entradas Y"
   ]
  },
  {
   "cell_type": "code",
   "execution_count": 2,
   "id": "babf8cc9",
   "metadata": {},
   "outputs": [],
   "source": [
    "inputs = np.array([[0, 0],\n",
    "                   [0, 1],\n",
    "                   [1, 0],\n",
    "                   [1, 1]])\n",
    "\n",
    "expected_outputs = np.array([0, 0, 0, 1])"
   ]
  },
  {
   "cell_type": "markdown",
   "id": "631e4538",
   "metadata": {},
   "source": [
    "Parametros del perceptron"
   ]
  },
  {
   "cell_type": "code",
   "execution_count": 3,
   "id": "76f569f5",
   "metadata": {},
   "outputs": [],
   "source": [
    "learning_rate = 0.1\n",
    "epochs = 10\n",
    "\n",
    "weights = np.random.rand(2)\n",
    "bias = np.random.rand()\n"
   ]
  },
  {
   "cell_type": "markdown",
   "id": "f661428b",
   "metadata": {},
   "source": [
    "Funcion de activación"
   ]
  },
  {
   "cell_type": "code",
   "execution_count": 4,
   "id": "a6104488",
   "metadata": {},
   "outputs": [],
   "source": [
    "def step_function(x):\n",
    "    return 1 if x >= 0 else 0"
   ]
  },
  {
   "cell_type": "markdown",
   "id": "bd29a7a5",
   "metadata": {},
   "source": [
    "Entranamiento"
   ]
  },
  {
   "cell_type": "code",
   "execution_count": 5,
   "id": "ed5c8002",
   "metadata": {},
   "outputs": [
    {
     "name": "stdout",
     "output_type": "stream",
     "text": [
      "Epoch 1\n",
      "Input: [0 0], Predicted: 1, Error: -1\n",
      "Input: [0 1], Predicted: 1, Error: -1\n",
      "Input: [1 0], Predicted: 1, Error: -1\n",
      "Input: [1 1], Predicted: 1, Error: 0\n",
      "Weights: [0.49978636 0.58885639] Bias: 0.022825574212823413\n",
      "----------------------------------------\n",
      "Epoch 2\n",
      "Input: [0 0], Predicted: 1, Error: -1\n",
      "Input: [0 1], Predicted: 1, Error: -1\n",
      "Input: [1 0], Predicted: 1, Error: -1\n",
      "Input: [1 1], Predicted: 1, Error: 0\n",
      "Weights: [0.39978636 0.48885639] Bias: -0.2771744257871766\n",
      "----------------------------------------\n",
      "Epoch 3\n",
      "Input: [0 0], Predicted: 0, Error: 0\n",
      "Input: [0 1], Predicted: 1, Error: -1\n",
      "Input: [1 0], Predicted: 1, Error: -1\n",
      "Input: [1 1], Predicted: 1, Error: 0\n",
      "Weights: [0.29978636 0.38885639] Bias: -0.4771744257871766\n",
      "----------------------------------------\n",
      "Epoch 4\n",
      "Input: [0 0], Predicted: 0, Error: 0\n",
      "Input: [0 1], Predicted: 0, Error: 0\n",
      "Input: [1 0], Predicted: 0, Error: 0\n",
      "Input: [1 1], Predicted: 1, Error: 0\n",
      "Weights: [0.29978636 0.38885639] Bias: -0.4771744257871766\n",
      "----------------------------------------\n",
      "Epoch 5\n",
      "Input: [0 0], Predicted: 0, Error: 0\n",
      "Input: [0 1], Predicted: 0, Error: 0\n",
      "Input: [1 0], Predicted: 0, Error: 0\n",
      "Input: [1 1], Predicted: 1, Error: 0\n",
      "Weights: [0.29978636 0.38885639] Bias: -0.4771744257871766\n",
      "----------------------------------------\n",
      "Epoch 6\n",
      "Input: [0 0], Predicted: 0, Error: 0\n",
      "Input: [0 1], Predicted: 0, Error: 0\n",
      "Input: [1 0], Predicted: 0, Error: 0\n",
      "Input: [1 1], Predicted: 1, Error: 0\n",
      "Weights: [0.29978636 0.38885639] Bias: -0.4771744257871766\n",
      "----------------------------------------\n",
      "Epoch 7\n",
      "Input: [0 0], Predicted: 0, Error: 0\n",
      "Input: [0 1], Predicted: 0, Error: 0\n",
      "Input: [1 0], Predicted: 0, Error: 0\n",
      "Input: [1 1], Predicted: 1, Error: 0\n",
      "Weights: [0.29978636 0.38885639] Bias: -0.4771744257871766\n",
      "----------------------------------------\n",
      "Epoch 8\n",
      "Input: [0 0], Predicted: 0, Error: 0\n",
      "Input: [0 1], Predicted: 0, Error: 0\n",
      "Input: [1 0], Predicted: 0, Error: 0\n",
      "Input: [1 1], Predicted: 1, Error: 0\n",
      "Weights: [0.29978636 0.38885639] Bias: -0.4771744257871766\n",
      "----------------------------------------\n",
      "Epoch 9\n",
      "Input: [0 0], Predicted: 0, Error: 0\n",
      "Input: [0 1], Predicted: 0, Error: 0\n",
      "Input: [1 0], Predicted: 0, Error: 0\n",
      "Input: [1 1], Predicted: 1, Error: 0\n",
      "Weights: [0.29978636 0.38885639] Bias: -0.4771744257871766\n",
      "----------------------------------------\n",
      "Epoch 10\n",
      "Input: [0 0], Predicted: 0, Error: 0\n",
      "Input: [0 1], Predicted: 0, Error: 0\n",
      "Input: [1 0], Predicted: 0, Error: 0\n",
      "Input: [1 1], Predicted: 1, Error: 0\n",
      "Weights: [0.29978636 0.38885639] Bias: -0.4771744257871766\n",
      "----------------------------------------\n"
     ]
    }
   ],
   "source": [
    "for epoch in range(epochs):\n",
    "    print(f\"Epoch {epoch+1}\")\n",
    "    for input_vector, expected in zip(inputs, expected_outputs):\n",
    "        predicted = step_function(np.dot(input_vector, weights) + bias)\n",
    "        error = expected - predicted\n",
    "        weights += learning_rate * error * input_vector\n",
    "        bias += learning_rate * error\n",
    "        print(f\"Input: {input_vector}, Predicted: {predicted}, Error: {error}\")\n",
    "    print(\"Weights:\", weights, \"Bias:\", bias)\n",
    "    print(\"-\" * 40)"
   ]
  },
  {
   "cell_type": "markdown",
   "id": "0c9c3eaa",
   "metadata": {},
   "source": [
    "Pruebas"
   ]
  },
  {
   "cell_type": "code",
   "execution_count": 6,
   "id": "eba8ff1e",
   "metadata": {},
   "outputs": [
    {
     "name": "stdout",
     "output_type": "stream",
     "text": [
      "\n",
      "Final tests:\n",
      "Input: [0 0], Output: 0\n",
      "Input: [0 1], Output: 0\n",
      "Input: [1 0], Output: 0\n",
      "Input: [1 1], Output: 1\n"
     ]
    }
   ],
   "source": [
    "print(\"\\nFinal tests:\")\n",
    "for input_vector in inputs:\n",
    "    output = step_function(np.dot(input_vector, weights) + bias)\n",
    "    print(f\"Input: {input_vector}, Output: {output}\")"
   ]
  },
  {
   "cell_type": "markdown",
   "id": "452d8feb",
   "metadata": {},
   "source": [
    "Ta bien 👍 "
   ]
  }
 ],
 "metadata": {
  "kernelspec": {
   "display_name": "Python 3",
   "language": "python",
   "name": "python3"
  },
  "language_info": {
   "codemirror_mode": {
    "name": "ipython",
    "version": 3
   },
   "file_extension": ".py",
   "mimetype": "text/x-python",
   "name": "python",
   "nbconvert_exporter": "python",
   "pygments_lexer": "ipython3",
   "version": "3.11.9"
  }
 },
 "nbformat": 4,
 "nbformat_minor": 5
}
